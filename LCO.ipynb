{
 "cells": [
  {
   "cell_type": "code",
   "execution_count": null,
   "id": "95833da4",
   "metadata": {},
   "outputs": [],
   "source": [
    "from astroquery.mast import Observations\n",
    "from astropy.io import fits\n",
    "import drizzlepac\n",
    "import glob\n",
    "import os"
   ]
  },
  {
   "cell_type": "code",
   "execution_count": null,
   "id": "8b10c20e",
   "metadata": {},
   "outputs": [],
   "source": [
    "files_15113 = glob.glob('/astro/4/calamida/lco/15113/*drz.fits')\n",
    "files_13711 = glob.glob('/astro/4/calamida/lco/13711/*drz.fits')\n",
    "file_names_15113 = [os.path.basename(x).replace('_drz.fits', '') for x in files_15113]\n",
    "file_names_13711 = [os.path.basename(x).replace('_drz.fits', '') for x in files_13711]\n",
    "all_file_names = file_names_15113 + file_names_13711\n",
    "\n",
    "len(glob.glob('/astro/4/calamida/lco/15113/*drz.fits') + glob.glob('/astro/4/calamida/lco/13711/*drz.fits'))\n"
   ]
  },
  {
   "cell_type": "code",
   "execution_count": null,
   "id": "eed542ff",
   "metadata": {},
   "outputs": [],
   "source": [
    "all_file_names"
   ]
  },
  {
   "cell_type": "code",
   "execution_count": null,
   "id": "ef4ced86",
   "metadata": {},
   "outputs": [],
   "source": [
    "from astroquery.mast import Observations\n",
    "\n",
    "# you can see all available filters for query_criteria in Observations.get_metadata('observations')\n",
    "obs_table = Observations.query_criteria(project='JWST', proposal_id='02736', filters=['F200W'])\n",
    "\n",
    "# the above will get you the table of all dataset ids (asn level) matching that criteria, so to\n",
    "# get each product under each ID do:\n",
    "prods = Observations.get_product_list(obs_table)\n",
    "\n",
    "# you can further filter the list above, for example if you want uncal files only. note that here\n",
    "# there is a field 'mrp_only' which is False by default unlike the MAST portal. case sensitive.\n",
    "prods = Observations.filter_products(prods, productSubGroupDescription=['UNCAL'])\n",
    "\n",
    "# when you are happy with 'prods', download everything in that table by doing:\n",
    "#manifest = Observations.download_products(prods, productType=\"SCIENCE\")\n",
    "\n"
   ]
  },
  {
   "cell_type": "code",
   "execution_count": null,
   "id": "05a1fbe5",
   "metadata": {},
   "outputs": [],
   "source": [
    "prods"
   ]
  },
  {
   "cell_type": "code",
   "execution_count": null,
   "id": "2b426fdd",
   "metadata": {
    "scrolled": true
   },
   "outputs": [],
   "source": [
    "for f in files_15113:\n",
    "    fname = os.path.basename(f).replace('_drz.fits', '')[0:8] + '*'\n",
    "    obs_table = Observations.query_criteria(proposal_id='15113', obs_id=fname, project='HST')\n",
    "    prods = Observations.get_product_list(obs_table)\n",
    "    prods = Observations.filter_products(prods, productSubGroupDescription=['FLT'], type='S')\n",
    "    print(obs_table['target_name'])\n",
    "    #manifest = Observations.download_products(prods, productType=\"SCIENCE\")"
   ]
  },
  {
   "cell_type": "code",
   "execution_count": null,
   "id": "a441513c",
   "metadata": {},
   "outputs": [],
   "source": [
    "for f in files_13711:\n",
    "    fname = os.path.basename(f).replace('_drz.fits', '')[0:8] + '*'\n",
    "    obs_table = Observations.query_criteria(proposal_id='13711', obs_id=fname, project='HST')\n",
    "    prods = Observations.get_product_list(obs_table)\n",
    "    prods = Observations.filter_products(prods, productSubGroupDescription=['FLT'], type='S')\n",
    "    print(obs_table['target_name'])\n",
    "    #manifest = Observations.download_products(prods, productType=\"SCIENCE\")"
   ]
  },
  {
   "cell_type": "code",
   "execution_count": null,
   "id": "9161e836",
   "metadata": {},
   "outputs": [],
   "source": [
    "flts = glob.glob('mastDownload/HST/*/*flt.fits')\n",
    "flts"
   ]
  },
  {
   "cell_type": "code",
   "execution_count": null,
   "id": "d21601a1",
   "metadata": {},
   "outputs": [],
   "source": [
    "asns = {}\n",
    "for f in flts:\n",
    "    asn = fits.getval(f, 'ASN_ID')\n",
    "    if asn not in asns.keys():\n",
    "        asns[asn] = [f]\n",
    "    else:\n",
    "        asns[asn].append(f)\n",
    "_ = asns.pop('ICMDP90J0')\n",
    "_ = asns.pop('icmdr00g0'.upper())\n",
    "\n",
    "asns['NONE'].append('mastDownload/HST/icmdp9b2q/icmdp9b2q_flt.fits')\n",
    "asns['NONE'].append('mastDownload/HST/icmdr0ctq/icmdr0ctq_flt.fits')\n",
    "single_files = asns.pop('NONE')\n"
   ]
  },
  {
   "cell_type": "code",
   "execution_count": null,
   "id": "4582a050",
   "metadata": {},
   "outputs": [],
   "source": [
    "asns"
   ]
  },
  {
   "cell_type": "code",
   "execution_count": null,
   "id": "b45e25c6",
   "metadata": {},
   "outputs": [],
   "source": [
    "for i, val in enumerate(list(asns.keys())):\n",
    "    print('RUNNING ON ', list(asns.keys())[i].lower())\n",
    "    print('FLTS = ', asns[list(asns.keys())[i]])\n",
    "    \n",
    "    drizzlepac.astrodrizzle.AstroDrizzle(input=asns[list(asns.keys())[i]],\n",
    "                                         driz_sep_rot=0.0, mdriztab=True,\n",
    "                                         output=list(asns.keys())[i].lower(),\n",
    "                                         build=True, in_memory=True, clean=True)\n",
    "    print('OUTPUT FILE NAME =', list(asns.keys())[i].lower())\n",
    "    print('-------------------------')"
   ]
  },
  {
   "cell_type": "code",
   "execution_count": null,
   "id": "10695012",
   "metadata": {},
   "outputs": [],
   "source": []
  },
  {
   "cell_type": "code",
   "execution_count": null,
   "id": "e74df90d",
   "metadata": {},
   "outputs": [],
   "source": [
    "single_files\n",
    "\n",
    "for f in single_files:\n",
    "    print(f, fits.getval(f, 'targname'))\n",
    "    drizzlepac.astrodrizzle.AstroDrizzle(input=f,\n",
    "                                         driz_sep_rot=0.0, mdriztab=True,\n",
    "                                         output=os.path.basename(f).replace('_flt.fits', ''),\n",
    "                                         build=True, in_memory=True, clean=True)\n",
    "    "
   ]
  },
  {
   "cell_type": "code",
   "execution_count": null,
   "id": "9aff0058",
   "metadata": {},
   "outputs": [],
   "source": [
    "drizzlepac.astrodrizzle.AstroDrizzle(input='mastDownload/HST/icmdp9b2q/icmdp9b2q_flt.fits',\n",
    "                                         driz_sep_rot=0.0, mdriztab=True,\n",
    "                                         output='icmdp9b2q',\n",
    "                                         build=True, in_memory=True, clean=True)"
   ]
  },
  {
   "cell_type": "code",
   "execution_count": null,
   "id": "1e8a6e74",
   "metadata": {},
   "outputs": [],
   "source": [
    "!rm idgq030l0_drz.fits"
   ]
  },
  {
   "cell_type": "code",
   "execution_count": null,
   "id": "a221cd5e",
   "metadata": {},
   "outputs": [],
   "source": [
    "! rm icmdr00g0_drz.fits "
   ]
  },
  {
   "cell_type": "code",
   "execution_count": null,
   "id": "b1a0584d",
   "metadata": {},
   "outputs": [],
   "source": [
    "drizzlepac.astrodrizzle.AstroDrizzle(input='mastDownload/HST/icmdr0ctq/icmdr0ctq_flt.fits',\n",
    "                                         driz_sep_rot=0.0, mdriztab=True,\n",
    "                                         output='icmdr0ctq',\n",
    "                                         build=True, in_memory=True, clean=True)"
   ]
  },
  {
   "cell_type": "code",
   "execution_count": null,
   "id": "39309d54",
   "metadata": {},
   "outputs": [],
   "source": [
    "for f in flts:\n",
    "    print(fits.getval(f, 'targname'))"
   ]
  },
  {
   "cell_type": "code",
   "execution_count": null,
   "id": "c21abd7c",
   "metadata": {},
   "outputs": [],
   "source": [
    "fits.open('mastDownload/HST/icmdp9b2q/icmdp9b2q_flt.fits')[0].header['targname']"
   ]
  },
  {
   "cell_type": "code",
   "execution_count": null,
   "id": "718472aa",
   "metadata": {},
   "outputs": [],
   "source": []
  }
 ],
 "metadata": {
  "kernelspec": {
   "display_name": "Python 3 (ipykernel)",
   "language": "python",
   "name": "python3"
  },
  "language_info": {
   "codemirror_mode": {
    "name": "ipython",
    "version": 3
   },
   "file_extension": ".py",
   "mimetype": "text/x-python",
   "name": "python",
   "nbconvert_exporter": "python",
   "pygments_lexer": "ipython3",
   "version": "3.9.12"
  }
 },
 "nbformat": 4,
 "nbformat_minor": 5
}
